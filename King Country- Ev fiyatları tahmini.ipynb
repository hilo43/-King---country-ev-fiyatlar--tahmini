{
 "cells": [
  {
   "cell_type": "markdown",
   "id": "c71038ff",
   "metadata": {},
   "source": [
    "# Regression"
   ]
  },
  {
   "cell_type": "code",
   "execution_count": 1,
   "id": "b53d8709",
   "metadata": {},
   "outputs": [],
   "source": [
    "import pandas as pd\n",
    "df = pd.read_csv(\"kc_house_data.csv\")\n",
    "import seaborn as sns\n",
    "import numpy as np"
   ]
  },
  {
   "cell_type": "code",
   "execution_count": 2,
   "id": "44ed761e",
   "metadata": {},
   "outputs": [],
   "source": [
    "import warnings\n",
    "warnings.filterwarnings(\"ignore\")\n",
    "pd.set_option('display.max_rows', 500)\n",
    "pd.set_option('display.max_columns', 500)\n",
    "pd.set_option('display.width', 1000)"
   ]
  },
  {
   "cell_type": "markdown",
   "id": "1d5ebcea",
   "metadata": {},
   "source": [
    "# EDA\n"
   ]
  },
  {
   "cell_type": "code",
   "execution_count": 3,
   "id": "e6696dc1",
   "metadata": {},
   "outputs": [
    {
     "data": {
      "text/plain": [
       "id               0\n",
       "date             0\n",
       "price            0\n",
       "bedrooms         0\n",
       "bathrooms        0\n",
       "sqft_living      0\n",
       "sqft_lot         0\n",
       "floors           0\n",
       "waterfront       0\n",
       "view             0\n",
       "condition        0\n",
       "grade            0\n",
       "sqft_above       0\n",
       "sqft_basement    0\n",
       "yr_built         0\n",
       "yr_renovated     0\n",
       "zipcode          0\n",
       "lat              0\n",
       "long             0\n",
       "sqft_living15    0\n",
       "sqft_lot15       0\n",
       "dtype: int64"
      ]
     },
     "execution_count": 3,
     "metadata": {},
     "output_type": "execute_result"
    }
   ],
   "source": [
    "df.isnull().sum()"
   ]
  },
  {
   "cell_type": "code",
   "execution_count": 4,
   "id": "055d7bfb",
   "metadata": {},
   "outputs": [],
   "source": [
    "df[\"house_year\"]=2021-df[\"yr_built\"]\n",
    "# ev yaşları yapım tarihi olarak direk korelasyonda etkisizken , sayı olarak yaş girilmesi daha çok etkisi olur."
   ]
  },
  {
   "cell_type": "code",
   "execution_count": null,
   "id": "339f0bfe",
   "metadata": {},
   "outputs": [],
   "source": [
    "\n"
   ]
  },
  {
   "cell_type": "code",
   "execution_count": 5,
   "id": "4e23ef0a",
   "metadata": {},
   "outputs": [
    {
     "data": {
      "text/html": [
       "<div>\n",
       "<style scoped>\n",
       "    .dataframe tbody tr th:only-of-type {\n",
       "        vertical-align: middle;\n",
       "    }\n",
       "\n",
       "    .dataframe tbody tr th {\n",
       "        vertical-align: top;\n",
       "    }\n",
       "\n",
       "    .dataframe thead th {\n",
       "        text-align: right;\n",
       "    }\n",
       "</style>\n",
       "<table border=\"1\" class=\"dataframe\">\n",
       "  <thead>\n",
       "    <tr style=\"text-align: right;\">\n",
       "      <th></th>\n",
       "      <th>id</th>\n",
       "      <th>date</th>\n",
       "      <th>price</th>\n",
       "      <th>bedrooms</th>\n",
       "      <th>bathrooms</th>\n",
       "      <th>sqft_living</th>\n",
       "      <th>sqft_lot</th>\n",
       "      <th>floors</th>\n",
       "      <th>waterfront</th>\n",
       "      <th>view</th>\n",
       "      <th>condition</th>\n",
       "      <th>grade</th>\n",
       "      <th>sqft_above</th>\n",
       "      <th>sqft_basement</th>\n",
       "      <th>yr_built</th>\n",
       "      <th>yr_renovated</th>\n",
       "      <th>zipcode</th>\n",
       "      <th>lat</th>\n",
       "      <th>long</th>\n",
       "      <th>sqft_living15</th>\n",
       "      <th>sqft_lot15</th>\n",
       "      <th>house_year</th>\n",
       "    </tr>\n",
       "  </thead>\n",
       "  <tbody>\n",
       "    <tr>\n",
       "      <th>0</th>\n",
       "      <td>7129300520</td>\n",
       "      <td>20141013T000000</td>\n",
       "      <td>221900.0</td>\n",
       "      <td>3</td>\n",
       "      <td>1.00</td>\n",
       "      <td>1180</td>\n",
       "      <td>5650</td>\n",
       "      <td>1.0</td>\n",
       "      <td>0</td>\n",
       "      <td>0</td>\n",
       "      <td>3</td>\n",
       "      <td>7</td>\n",
       "      <td>1180</td>\n",
       "      <td>0</td>\n",
       "      <td>1955</td>\n",
       "      <td>0</td>\n",
       "      <td>98178</td>\n",
       "      <td>47.5112</td>\n",
       "      <td>-122.257</td>\n",
       "      <td>1340</td>\n",
       "      <td>5650</td>\n",
       "      <td>66</td>\n",
       "    </tr>\n",
       "    <tr>\n",
       "      <th>1</th>\n",
       "      <td>6414100192</td>\n",
       "      <td>20141209T000000</td>\n",
       "      <td>538000.0</td>\n",
       "      <td>3</td>\n",
       "      <td>2.25</td>\n",
       "      <td>2570</td>\n",
       "      <td>7242</td>\n",
       "      <td>2.0</td>\n",
       "      <td>0</td>\n",
       "      <td>0</td>\n",
       "      <td>3</td>\n",
       "      <td>7</td>\n",
       "      <td>2170</td>\n",
       "      <td>400</td>\n",
       "      <td>1951</td>\n",
       "      <td>1991</td>\n",
       "      <td>98125</td>\n",
       "      <td>47.7210</td>\n",
       "      <td>-122.319</td>\n",
       "      <td>1690</td>\n",
       "      <td>7639</td>\n",
       "      <td>70</td>\n",
       "    </tr>\n",
       "    <tr>\n",
       "      <th>2</th>\n",
       "      <td>5631500400</td>\n",
       "      <td>20150225T000000</td>\n",
       "      <td>180000.0</td>\n",
       "      <td>2</td>\n",
       "      <td>1.00</td>\n",
       "      <td>770</td>\n",
       "      <td>10000</td>\n",
       "      <td>1.0</td>\n",
       "      <td>0</td>\n",
       "      <td>0</td>\n",
       "      <td>3</td>\n",
       "      <td>6</td>\n",
       "      <td>770</td>\n",
       "      <td>0</td>\n",
       "      <td>1933</td>\n",
       "      <td>0</td>\n",
       "      <td>98028</td>\n",
       "      <td>47.7379</td>\n",
       "      <td>-122.233</td>\n",
       "      <td>2720</td>\n",
       "      <td>8062</td>\n",
       "      <td>88</td>\n",
       "    </tr>\n",
       "    <tr>\n",
       "      <th>3</th>\n",
       "      <td>2487200875</td>\n",
       "      <td>20141209T000000</td>\n",
       "      <td>604000.0</td>\n",
       "      <td>4</td>\n",
       "      <td>3.00</td>\n",
       "      <td>1960</td>\n",
       "      <td>5000</td>\n",
       "      <td>1.0</td>\n",
       "      <td>0</td>\n",
       "      <td>0</td>\n",
       "      <td>5</td>\n",
       "      <td>7</td>\n",
       "      <td>1050</td>\n",
       "      <td>910</td>\n",
       "      <td>1965</td>\n",
       "      <td>0</td>\n",
       "      <td>98136</td>\n",
       "      <td>47.5208</td>\n",
       "      <td>-122.393</td>\n",
       "      <td>1360</td>\n",
       "      <td>5000</td>\n",
       "      <td>56</td>\n",
       "    </tr>\n",
       "    <tr>\n",
       "      <th>4</th>\n",
       "      <td>1954400510</td>\n",
       "      <td>20150218T000000</td>\n",
       "      <td>510000.0</td>\n",
       "      <td>3</td>\n",
       "      <td>2.00</td>\n",
       "      <td>1680</td>\n",
       "      <td>8080</td>\n",
       "      <td>1.0</td>\n",
       "      <td>0</td>\n",
       "      <td>0</td>\n",
       "      <td>3</td>\n",
       "      <td>8</td>\n",
       "      <td>1680</td>\n",
       "      <td>0</td>\n",
       "      <td>1987</td>\n",
       "      <td>0</td>\n",
       "      <td>98074</td>\n",
       "      <td>47.6168</td>\n",
       "      <td>-122.045</td>\n",
       "      <td>1800</td>\n",
       "      <td>7503</td>\n",
       "      <td>34</td>\n",
       "    </tr>\n",
       "  </tbody>\n",
       "</table>\n",
       "</div>"
      ],
      "text/plain": [
       "           id             date     price  bedrooms  bathrooms  sqft_living  sqft_lot  floors  waterfront  view  condition  grade  sqft_above  sqft_basement  yr_built  yr_renovated  zipcode      lat     long  sqft_living15  sqft_lot15  house_year\n",
       "0  7129300520  20141013T000000  221900.0         3       1.00         1180      5650     1.0           0     0          3      7        1180              0      1955             0    98178  47.5112 -122.257           1340        5650          66\n",
       "1  6414100192  20141209T000000  538000.0         3       2.25         2570      7242     2.0           0     0          3      7        2170            400      1951          1991    98125  47.7210 -122.319           1690        7639          70\n",
       "2  5631500400  20150225T000000  180000.0         2       1.00          770     10000     1.0           0     0          3      6         770              0      1933             0    98028  47.7379 -122.233           2720        8062          88\n",
       "3  2487200875  20141209T000000  604000.0         4       3.00         1960      5000     1.0           0     0          5      7        1050            910      1965             0    98136  47.5208 -122.393           1360        5000          56\n",
       "4  1954400510  20150218T000000  510000.0         3       2.00         1680      8080     1.0           0     0          3      8        1680              0      1987             0    98074  47.6168 -122.045           1800        7503          34"
      ]
     },
     "execution_count": 5,
     "metadata": {},
     "output_type": "execute_result"
    }
   ],
   "source": [
    "df.head()\n",
    "#cruise anlamı arabanın hız sabitleyicisi olup olmamasıdır."
   ]
  },
  {
   "cell_type": "code",
   "execution_count": 6,
   "id": "690615c7",
   "metadata": {},
   "outputs": [],
   "source": [
    "df[\"zipcode\"]=df[\"zipcode\"].astype(\"category\")\n",
    "#dummy variable yaparken postakodunu fiyat gibi integer bir değer olarak algılamasındansa \n",
    "# yazıymış gibi algılamasını sağlarız"
   ]
  },
  {
   "cell_type": "code",
   "execution_count": 7,
   "id": "ddea0681",
   "metadata": {},
   "outputs": [
    {
     "data": {
      "text/plain": [
       "0        7\n",
       "1        7\n",
       "2        6\n",
       "3        7\n",
       "4        8\n",
       "        ..\n",
       "21608    8\n",
       "21609    8\n",
       "21610    7\n",
       "21611    8\n",
       "21612    7\n",
       "Name: grade, Length: 21613, dtype: int64"
      ]
     },
     "execution_count": 7,
     "metadata": {},
     "output_type": "execute_result"
    }
   ],
   "source": [
    "df[\"grade\"]\n"
   ]
  },
  {
   "cell_type": "code",
   "execution_count": 8,
   "id": "fbe6825a",
   "metadata": {},
   "outputs": [
    {
     "data": {
      "text/html": [
       "<div>\n",
       "<style scoped>\n",
       "    .dataframe tbody tr th:only-of-type {\n",
       "        vertical-align: middle;\n",
       "    }\n",
       "\n",
       "    .dataframe tbody tr th {\n",
       "        vertical-align: top;\n",
       "    }\n",
       "\n",
       "    .dataframe thead th {\n",
       "        text-align: right;\n",
       "    }\n",
       "</style>\n",
       "<table border=\"1\" class=\"dataframe\">\n",
       "  <thead>\n",
       "    <tr style=\"text-align: right;\">\n",
       "      <th></th>\n",
       "      <th>id</th>\n",
       "      <th>price</th>\n",
       "      <th>bedrooms</th>\n",
       "      <th>bathrooms</th>\n",
       "      <th>sqft_living</th>\n",
       "      <th>sqft_lot</th>\n",
       "      <th>floors</th>\n",
       "      <th>waterfront</th>\n",
       "      <th>view</th>\n",
       "      <th>condition</th>\n",
       "      <th>grade</th>\n",
       "      <th>sqft_above</th>\n",
       "      <th>sqft_basement</th>\n",
       "      <th>yr_built</th>\n",
       "      <th>yr_renovated</th>\n",
       "      <th>lat</th>\n",
       "      <th>long</th>\n",
       "      <th>sqft_living15</th>\n",
       "      <th>sqft_lot15</th>\n",
       "      <th>house_year</th>\n",
       "    </tr>\n",
       "  </thead>\n",
       "  <tbody>\n",
       "    <tr>\n",
       "      <th>count</th>\n",
       "      <td>2.161300e+04</td>\n",
       "      <td>2.161300e+04</td>\n",
       "      <td>21613.000000</td>\n",
       "      <td>21613.000000</td>\n",
       "      <td>21613.000000</td>\n",
       "      <td>2.161300e+04</td>\n",
       "      <td>21613.000000</td>\n",
       "      <td>21613.000000</td>\n",
       "      <td>21613.000000</td>\n",
       "      <td>21613.000000</td>\n",
       "      <td>21613.000000</td>\n",
       "      <td>21613.000000</td>\n",
       "      <td>21613.000000</td>\n",
       "      <td>21613.000000</td>\n",
       "      <td>21613.000000</td>\n",
       "      <td>21613.000000</td>\n",
       "      <td>21613.000000</td>\n",
       "      <td>21613.000000</td>\n",
       "      <td>21613.000000</td>\n",
       "      <td>21613.000000</td>\n",
       "    </tr>\n",
       "    <tr>\n",
       "      <th>mean</th>\n",
       "      <td>4.580302e+09</td>\n",
       "      <td>5.400881e+05</td>\n",
       "      <td>3.370842</td>\n",
       "      <td>2.114757</td>\n",
       "      <td>2079.899736</td>\n",
       "      <td>1.510697e+04</td>\n",
       "      <td>1.494309</td>\n",
       "      <td>0.007542</td>\n",
       "      <td>0.234303</td>\n",
       "      <td>3.409430</td>\n",
       "      <td>7.656873</td>\n",
       "      <td>1788.390691</td>\n",
       "      <td>291.509045</td>\n",
       "      <td>1971.005136</td>\n",
       "      <td>84.402258</td>\n",
       "      <td>47.560053</td>\n",
       "      <td>-122.213896</td>\n",
       "      <td>1986.552492</td>\n",
       "      <td>12768.455652</td>\n",
       "      <td>49.994864</td>\n",
       "    </tr>\n",
       "    <tr>\n",
       "      <th>std</th>\n",
       "      <td>2.876566e+09</td>\n",
       "      <td>3.671272e+05</td>\n",
       "      <td>0.930062</td>\n",
       "      <td>0.770163</td>\n",
       "      <td>918.440897</td>\n",
       "      <td>4.142051e+04</td>\n",
       "      <td>0.539989</td>\n",
       "      <td>0.086517</td>\n",
       "      <td>0.766318</td>\n",
       "      <td>0.650743</td>\n",
       "      <td>1.175459</td>\n",
       "      <td>828.090978</td>\n",
       "      <td>442.575043</td>\n",
       "      <td>29.373411</td>\n",
       "      <td>401.679240</td>\n",
       "      <td>0.138564</td>\n",
       "      <td>0.140828</td>\n",
       "      <td>685.391304</td>\n",
       "      <td>27304.179631</td>\n",
       "      <td>29.373411</td>\n",
       "    </tr>\n",
       "    <tr>\n",
       "      <th>min</th>\n",
       "      <td>1.000102e+06</td>\n",
       "      <td>7.500000e+04</td>\n",
       "      <td>0.000000</td>\n",
       "      <td>0.000000</td>\n",
       "      <td>290.000000</td>\n",
       "      <td>5.200000e+02</td>\n",
       "      <td>1.000000</td>\n",
       "      <td>0.000000</td>\n",
       "      <td>0.000000</td>\n",
       "      <td>1.000000</td>\n",
       "      <td>1.000000</td>\n",
       "      <td>290.000000</td>\n",
       "      <td>0.000000</td>\n",
       "      <td>1900.000000</td>\n",
       "      <td>0.000000</td>\n",
       "      <td>47.155900</td>\n",
       "      <td>-122.519000</td>\n",
       "      <td>399.000000</td>\n",
       "      <td>651.000000</td>\n",
       "      <td>6.000000</td>\n",
       "    </tr>\n",
       "    <tr>\n",
       "      <th>25%</th>\n",
       "      <td>2.123049e+09</td>\n",
       "      <td>3.219500e+05</td>\n",
       "      <td>3.000000</td>\n",
       "      <td>1.750000</td>\n",
       "      <td>1427.000000</td>\n",
       "      <td>5.040000e+03</td>\n",
       "      <td>1.000000</td>\n",
       "      <td>0.000000</td>\n",
       "      <td>0.000000</td>\n",
       "      <td>3.000000</td>\n",
       "      <td>7.000000</td>\n",
       "      <td>1190.000000</td>\n",
       "      <td>0.000000</td>\n",
       "      <td>1951.000000</td>\n",
       "      <td>0.000000</td>\n",
       "      <td>47.471000</td>\n",
       "      <td>-122.328000</td>\n",
       "      <td>1490.000000</td>\n",
       "      <td>5100.000000</td>\n",
       "      <td>24.000000</td>\n",
       "    </tr>\n",
       "    <tr>\n",
       "      <th>50%</th>\n",
       "      <td>3.904930e+09</td>\n",
       "      <td>4.500000e+05</td>\n",
       "      <td>3.000000</td>\n",
       "      <td>2.250000</td>\n",
       "      <td>1910.000000</td>\n",
       "      <td>7.618000e+03</td>\n",
       "      <td>1.500000</td>\n",
       "      <td>0.000000</td>\n",
       "      <td>0.000000</td>\n",
       "      <td>3.000000</td>\n",
       "      <td>7.000000</td>\n",
       "      <td>1560.000000</td>\n",
       "      <td>0.000000</td>\n",
       "      <td>1975.000000</td>\n",
       "      <td>0.000000</td>\n",
       "      <td>47.571800</td>\n",
       "      <td>-122.230000</td>\n",
       "      <td>1840.000000</td>\n",
       "      <td>7620.000000</td>\n",
       "      <td>46.000000</td>\n",
       "    </tr>\n",
       "    <tr>\n",
       "      <th>75%</th>\n",
       "      <td>7.308900e+09</td>\n",
       "      <td>6.450000e+05</td>\n",
       "      <td>4.000000</td>\n",
       "      <td>2.500000</td>\n",
       "      <td>2550.000000</td>\n",
       "      <td>1.068800e+04</td>\n",
       "      <td>2.000000</td>\n",
       "      <td>0.000000</td>\n",
       "      <td>0.000000</td>\n",
       "      <td>4.000000</td>\n",
       "      <td>8.000000</td>\n",
       "      <td>2210.000000</td>\n",
       "      <td>560.000000</td>\n",
       "      <td>1997.000000</td>\n",
       "      <td>0.000000</td>\n",
       "      <td>47.678000</td>\n",
       "      <td>-122.125000</td>\n",
       "      <td>2360.000000</td>\n",
       "      <td>10083.000000</td>\n",
       "      <td>70.000000</td>\n",
       "    </tr>\n",
       "    <tr>\n",
       "      <th>max</th>\n",
       "      <td>9.900000e+09</td>\n",
       "      <td>7.700000e+06</td>\n",
       "      <td>33.000000</td>\n",
       "      <td>8.000000</td>\n",
       "      <td>13540.000000</td>\n",
       "      <td>1.651359e+06</td>\n",
       "      <td>3.500000</td>\n",
       "      <td>1.000000</td>\n",
       "      <td>4.000000</td>\n",
       "      <td>5.000000</td>\n",
       "      <td>13.000000</td>\n",
       "      <td>9410.000000</td>\n",
       "      <td>4820.000000</td>\n",
       "      <td>2015.000000</td>\n",
       "      <td>2015.000000</td>\n",
       "      <td>47.777600</td>\n",
       "      <td>-121.315000</td>\n",
       "      <td>6210.000000</td>\n",
       "      <td>871200.000000</td>\n",
       "      <td>121.000000</td>\n",
       "    </tr>\n",
       "  </tbody>\n",
       "</table>\n",
       "</div>"
      ],
      "text/plain": [
       "                 id         price      bedrooms     bathrooms   sqft_living      sqft_lot        floors    waterfront          view     condition         grade    sqft_above  sqft_basement      yr_built  yr_renovated           lat          long  sqft_living15     sqft_lot15    house_year\n",
       "count  2.161300e+04  2.161300e+04  21613.000000  21613.000000  21613.000000  2.161300e+04  21613.000000  21613.000000  21613.000000  21613.000000  21613.000000  21613.000000   21613.000000  21613.000000  21613.000000  21613.000000  21613.000000   21613.000000   21613.000000  21613.000000\n",
       "mean   4.580302e+09  5.400881e+05      3.370842      2.114757   2079.899736  1.510697e+04      1.494309      0.007542      0.234303      3.409430      7.656873   1788.390691     291.509045   1971.005136     84.402258     47.560053   -122.213896    1986.552492   12768.455652     49.994864\n",
       "std    2.876566e+09  3.671272e+05      0.930062      0.770163    918.440897  4.142051e+04      0.539989      0.086517      0.766318      0.650743      1.175459    828.090978     442.575043     29.373411    401.679240      0.138564      0.140828     685.391304   27304.179631     29.373411\n",
       "min    1.000102e+06  7.500000e+04      0.000000      0.000000    290.000000  5.200000e+02      1.000000      0.000000      0.000000      1.000000      1.000000    290.000000       0.000000   1900.000000      0.000000     47.155900   -122.519000     399.000000     651.000000      6.000000\n",
       "25%    2.123049e+09  3.219500e+05      3.000000      1.750000   1427.000000  5.040000e+03      1.000000      0.000000      0.000000      3.000000      7.000000   1190.000000       0.000000   1951.000000      0.000000     47.471000   -122.328000    1490.000000    5100.000000     24.000000\n",
       "50%    3.904930e+09  4.500000e+05      3.000000      2.250000   1910.000000  7.618000e+03      1.500000      0.000000      0.000000      3.000000      7.000000   1560.000000       0.000000   1975.000000      0.000000     47.571800   -122.230000    1840.000000    7620.000000     46.000000\n",
       "75%    7.308900e+09  6.450000e+05      4.000000      2.500000   2550.000000  1.068800e+04      2.000000      0.000000      0.000000      4.000000      8.000000   2210.000000     560.000000   1997.000000      0.000000     47.678000   -122.125000    2360.000000   10083.000000     70.000000\n",
       "max    9.900000e+09  7.700000e+06     33.000000      8.000000  13540.000000  1.651359e+06      3.500000      1.000000      4.000000      5.000000     13.000000   9410.000000    4820.000000   2015.000000   2015.000000     47.777600   -121.315000    6210.000000  871200.000000    121.000000"
      ]
     },
     "execution_count": 8,
     "metadata": {},
     "output_type": "execute_result"
    }
   ],
   "source": [
    "df.describe()"
   ]
  },
  {
   "cell_type": "code",
   "execution_count": 9,
   "id": "f89b2786",
   "metadata": {},
   "outputs": [
    {
     "data": {
      "text/plain": [
       "price            1.000000\n",
       "sqft_living      0.702035\n",
       "grade            0.667434\n",
       "sqft_above       0.605567\n",
       "sqft_living15    0.585379\n",
       "bathrooms        0.525138\n",
       "view             0.397293\n",
       "sqft_basement    0.323816\n",
       "bedrooms         0.308350\n",
       "lat              0.307003\n",
       "waterfront       0.266369\n",
       "floors           0.256794\n",
       "yr_renovated     0.126434\n",
       "sqft_lot         0.089661\n",
       "sqft_lot15       0.082447\n",
       "house_year       0.054012\n",
       "yr_built         0.054012\n",
       "condition        0.036362\n",
       "long             0.021626\n",
       "id               0.016762\n",
       "Name: price, dtype: float64"
      ]
     },
     "execution_count": 9,
     "metadata": {},
     "output_type": "execute_result"
    }
   ],
   "source": [
    "abs(df.corr()[\"price\"]).sort_values(ascending = False) "
   ]
  },
  {
   "cell_type": "code",
   "execution_count": 10,
   "id": "05a4aeae",
   "metadata": {},
   "outputs": [
    {
     "data": {
      "text/plain": [
       "<AxesSubplot:xlabel='sqft_living'>"
      ]
     },
     "execution_count": 10,
     "metadata": {},
     "output_type": "execute_result"
    },
    {
     "data": {
      "image/png": "[encoded data removed]",
      "text/plain": [
       "<Figure size 432x288 with 1 Axes>"
      ]
     },
     "metadata": {
      "needs_background": "light"
     },
     "output_type": "display_data"
    }
   ],
   "source": [
    "sns.boxplot(df[\"sqft_living\"])"
   ]
  },
  {
   "cell_type": "code",
   "execution_count": 11,
   "id": "ac1b5cb5",
   "metadata": {},
   "outputs": [],
   "source": [
    "df=df[df[\"sqft_living\"]<4200]\n"
   ]
  },
  {
   "cell_type": "code",
   "execution_count": 12,
   "id": "48a8e0ac",
   "metadata": {},
   "outputs": [
    {
     "data": {
      "text/plain": [
       "<AxesSubplot:xlabel='grade'>"
      ]
     },
     "execution_count": 12,
     "metadata": {},
     "output_type": "execute_result"
    },
    {
     "data": {
      "image/png": "[encoded data removed]",
      "text/plain": [
       "<Figure size 432x288 with 1 Axes>"
      ]
     },
     "metadata": {
      "needs_background": "light"
     },
     "output_type": "display_data"
    }
   ],
   "source": [
    "sns.boxplot(df[\"grade\"])"
   ]
  },
  {
   "cell_type": "code",
   "execution_count": 13,
   "id": "748c9c55",
   "metadata": {},
   "outputs": [],
   "source": [
    "#df=df[df[\"grade\"]<10]\n",
    "#df=df[df[\"grade\"]>3]\n",
    "df['grade']=df['grade']/2"
   ]
  },
  {
   "cell_type": "code",
   "execution_count": 14,
   "id": "e9b02ee7",
   "metadata": {},
   "outputs": [
    {
     "data": {
      "text/plain": [
       "<AxesSubplot:xlabel='sqft_above'>"
      ]
     },
     "execution_count": 14,
     "metadata": {},
     "output_type": "execute_result"
    },
    {
     "data": {
      "image/png": "[encoded data removed]",
      "text/plain": [
       "<Figure size 432x288 with 1 Axes>"
      ]
     },
     "metadata": {
      "needs_background": "light"
     },
     "output_type": "display_data"
    }
   ],
   "source": [
    "sns.boxplot(df[\"sqft_above\"])"
   ]
  },
  {
   "cell_type": "code",
   "execution_count": 15,
   "id": "67731d8c",
   "metadata": {},
   "outputs": [],
   "source": [
    "#df=df[df[\"sqft_above\"]<3500]"
   ]
  },
  {
   "cell_type": "code",
   "execution_count": 16,
   "id": "4596c8ae",
   "metadata": {},
   "outputs": [
    {
     "data": {
      "text/plain": [
       "<AxesSubplot:xlabel='sqft_living15'>"
      ]
     },
     "execution_count": 16,
     "metadata": {},
     "output_type": "execute_result"
    },
    {
     "data": {
      "image/png": "[encoded data removed]",
      "text/plain": [
       "<Figure size 432x288 with 1 Axes>"
      ]
     },
     "metadata": {
      "needs_background": "light"
     },
     "output_type": "display_data"
    }
   ],
   "source": [
    "sns.boxplot(df[\"sqft_living15\"])"
   ]
  },
  {
   "cell_type": "code",
   "execution_count": 17,
   "id": "96f263b0",
   "metadata": {},
   "outputs": [],
   "source": [
    "df =df[df[\"sqft_living15\"]<3750]"
   ]
  },
  {
   "cell_type": "code",
   "execution_count": 18,
   "id": "e247d9fd",
   "metadata": {},
   "outputs": [
    {
     "data": {
      "text/plain": [
       "<AxesSubplot:xlabel='bathrooms'>"
      ]
     },
     "execution_count": 18,
     "metadata": {},
     "output_type": "execute_result"
    },
    {
     "data": {
      "image/png": "[encoded data removed]",
      "text/plain": [
       "<Figure size 432x288 with 1 Axes>"
      ]
     },
     "metadata": {
      "needs_background": "light"
     },
     "output_type": "display_data"
    }
   ],
   "source": [
    "sns.boxplot(df[\"bathrooms\"])"
   ]
  },
  {
   "cell_type": "code",
   "execution_count": 19,
   "id": "782a8bbb",
   "metadata": {},
   "outputs": [],
   "source": [
    "df = df[df[\"bathrooms\"]<4]\n",
    "df[\"bathrooms\"] = df[\"bathrooms\"]**2\n"
   ]
  },
  {
   "cell_type": "code",
   "execution_count": 20,
   "id": "7cf2a333",
   "metadata": {},
   "outputs": [
    {
     "data": {
      "text/plain": [
       "<AxesSubplot:xlabel='sqft_basement'>"
      ]
     },
     "execution_count": 20,
     "metadata": {},
     "output_type": "execute_result"
    },
    {
     "data": {
      "image/png": "[encoded data removed]",
      "text/plain": [
       "<Figure size 432x288 with 1 Axes>"
      ]
     },
     "metadata": {
      "needs_background": "light"
     },
     "output_type": "display_data"
    }
   ],
   "source": [
    "sns.boxplot(df[\"sqft_basement\"])"
   ]
  },
  {
   "cell_type": "code",
   "execution_count": 21,
   "id": "2b902bbf",
   "metadata": {},
   "outputs": [],
   "source": [
    "#df = df[df[\"sqft_basement\"]<1500]"
   ]
  },
  {
   "cell_type": "code",
   "execution_count": 22,
   "id": "c5addabc",
   "metadata": {},
   "outputs": [
    {
     "data": {
      "text/plain": [
       "<AxesSubplot:xlabel='bedrooms'>"
      ]
     },
     "execution_count": 22,
     "metadata": {},
     "output_type": "execute_result"
    },
    {
     "data": {
      "image/png": "[encoded data removed]",
      "text/plain": [
       "<Figure size 432x288 with 1 Axes>"
      ]
     },
     "metadata": {
      "needs_background": "light"
     },
     "output_type": "display_data"
    }
   ],
   "source": [
    "sns.boxplot(df[\"bedrooms\"])"
   ]
  },
  {
   "cell_type": "code",
   "execution_count": 23,
   "id": "d008b416",
   "metadata": {},
   "outputs": [],
   "source": [
    "df=df[df[\"bedrooms\"]<7]\n",
    "df[\"bedrooms\"] = df[\"bedrooms\"]**4"
   ]
  },
  {
   "cell_type": "code",
   "execution_count": 24,
   "id": "e6cc5a09",
   "metadata": {},
   "outputs": [
    {
     "data": {
      "text/plain": [
       "<AxesSubplot:xlabel='lat'>"
      ]
     },
     "execution_count": 24,
     "metadata": {},
     "output_type": "execute_result"
    },
    {
     "data": {
      "image/png": "[encoded data removed]",
      "text/plain": [
       "<Figure size 432x288 with 1 Axes>"
      ]
     },
     "metadata": {
      "needs_background": "light"
     },
     "output_type": "display_data"
    }
   ],
   "source": [
    "sns.boxplot(df[\"lat\"])"
   ]
  },
  {
   "cell_type": "code",
   "execution_count": 25,
   "id": "adc1473c",
   "metadata": {},
   "outputs": [
    {
     "data": {
      "text/plain": [
       "<AxesSubplot:xlabel='floors'>"
      ]
     },
     "execution_count": 25,
     "metadata": {},
     "output_type": "execute_result"
    },
    {
     "data": {
      "image/png": "[encoded data removed]",
      "text/plain": [
       "<Figure size 432x288 with 1 Axes>"
      ]
     },
     "metadata": {
      "needs_background": "light"
     },
     "output_type": "display_data"
    }
   ],
   "source": [
    "sns.boxplot(df[\"floors\"])"
   ]
  },
  {
   "cell_type": "code",
   "execution_count": 26,
   "id": "be984183",
   "metadata": {},
   "outputs": [
    {
     "data": {
      "text/plain": [
       "<AxesSubplot:xlabel='house_year'>"
      ]
     },
     "execution_count": 26,
     "metadata": {},
     "output_type": "execute_result"
    },
    {
     "data": {
      "image/png": "[encoded data removed]",
      "text/plain": [
       "<Figure size 432x288 with 1 Axes>"
      ]
     },
     "metadata": {
      "needs_background": "light"
     },
     "output_type": "display_data"
    }
   ],
   "source": [
    "sns.boxplot(df[\"house_year\"])"
   ]
  },
  {
   "cell_type": "code",
   "execution_count": 27,
   "id": "cd144db7",
   "metadata": {},
   "outputs": [
    {
     "name": "stdout",
     "output_type": "stream",
     "text": [
      "<class 'pandas.core.frame.DataFrame'>\n",
      "Int64Index: 20626 entries, 0 to 21612\n",
      "Data columns (total 22 columns):\n",
      " #   Column         Non-Null Count  Dtype   \n",
      "---  ------         --------------  -----   \n",
      " 0   id             20626 non-null  int64   \n",
      " 1   date           20626 non-null  object  \n",
      " 2   price          20626 non-null  float64 \n",
      " 3   bedrooms       20626 non-null  int64   \n",
      " 4   bathrooms      20626 non-null  float64 \n",
      " 5   sqft_living    20626 non-null  int64   \n",
      " 6   sqft_lot       20626 non-null  int64   \n",
      " 7   floors         20626 non-null  float64 \n",
      " 8   waterfront     20626 non-null  int64   \n",
      " 9   view           20626 non-null  int64   \n",
      " 10  condition      20626 non-null  int64   \n",
      " 11  grade          20626 non-null  float64 \n",
      " 12  sqft_above     20626 non-null  int64   \n",
      " 13  sqft_basement  20626 non-null  int64   \n",
      " 14  yr_built       20626 non-null  int64   \n",
      " 15  yr_renovated   20626 non-null  int64   \n",
      " 16  zipcode        20626 non-null  category\n",
      " 17  lat            20626 non-null  float64 \n",
      " 18  long           20626 non-null  float64 \n",
      " 19  sqft_living15  20626 non-null  int64   \n",
      " 20  sqft_lot15     20626 non-null  int64   \n",
      " 21  house_year     20626 non-null  int64   \n",
      "dtypes: category(1), float64(6), int64(14), object(1)\n",
      "memory usage: 3.5+ MB\n"
     ]
    }
   ],
   "source": [
    "df.info() #sütun isimleri,dolu kayıt sayısı, veri tipi bunları getirir\n",
    "\n",
    "#zipcode v"
   ]
  },
  {
   "cell_type": "code",
   "execution_count": 28,
   "id": "dc9e2764",
   "metadata": {},
   "outputs": [
    {
     "data": {
      "text/plain": [
       "(20626, 22)"
      ]
     },
     "execution_count": 28,
     "metadata": {},
     "output_type": "execute_result"
    }
   ],
   "source": [
    "df.shape"
   ]
  },
  {
   "cell_type": "code",
   "execution_count": 29,
   "id": "7afd8b98",
   "metadata": {},
   "outputs": [
    {
     "data": {
      "text/html": [
       "<div>\n",
       "<style scoped>\n",
       "    .dataframe tbody tr th:only-of-type {\n",
       "        vertical-align: middle;\n",
       "    }\n",
       "\n",
       "    .dataframe tbody tr th {\n",
       "        vertical-align: top;\n",
       "    }\n",
       "\n",
       "    .dataframe thead th {\n",
       "        text-align: right;\n",
       "    }\n",
       "</style>\n",
       "<table border=\"1\" class=\"dataframe\">\n",
       "  <thead>\n",
       "    <tr style=\"text-align: right;\">\n",
       "      <th></th>\n",
       "      <th>id</th>\n",
       "      <th>price</th>\n",
       "      <th>bedrooms</th>\n",
       "      <th>bathrooms</th>\n",
       "      <th>sqft_living</th>\n",
       "      <th>sqft_lot</th>\n",
       "      <th>floors</th>\n",
       "      <th>waterfront</th>\n",
       "      <th>view</th>\n",
       "      <th>condition</th>\n",
       "      <th>grade</th>\n",
       "      <th>sqft_above</th>\n",
       "      <th>sqft_basement</th>\n",
       "      <th>yr_built</th>\n",
       "      <th>yr_renovated</th>\n",
       "      <th>lat</th>\n",
       "      <th>long</th>\n",
       "      <th>sqft_living15</th>\n",
       "      <th>sqft_lot15</th>\n",
       "      <th>house_year</th>\n",
       "    </tr>\n",
       "  </thead>\n",
       "  <tbody>\n",
       "    <tr>\n",
       "      <th>id</th>\n",
       "      <td>1.000000</td>\n",
       "      <td>-0.003472</td>\n",
       "      <td>0.007698</td>\n",
       "      <td>0.019561</td>\n",
       "      <td>0.006973</td>\n",
       "      <td>-0.128392</td>\n",
       "      <td>0.026137</td>\n",
       "      <td>-0.001557</td>\n",
       "      <td>0.017273</td>\n",
       "      <td>-0.024304</td>\n",
       "      <td>0.027342</td>\n",
       "      <td>0.008417</td>\n",
       "      <td>-0.001741</td>\n",
       "      <td>0.025031</td>\n",
       "      <td>-0.015429</td>\n",
       "      <td>0.001117</td>\n",
       "      <td>0.021864</td>\n",
       "      <td>0.007745</td>\n",
       "      <td>-0.142239</td>\n",
       "      <td>-0.025031</td>\n",
       "    </tr>\n",
       "    <tr>\n",
       "      <th>price</th>\n",
       "      <td>-0.003472</td>\n",
       "      <td>1.000000</td>\n",
       "      <td>0.231543</td>\n",
       "      <td>0.444645</td>\n",
       "      <td>0.612492</td>\n",
       "      <td>0.067165</td>\n",
       "      <td>0.245046</td>\n",
       "      <td>0.194894</td>\n",
       "      <td>0.334166</td>\n",
       "      <td>0.061128</td>\n",
       "      <td>0.622253</td>\n",
       "      <td>0.504180</td>\n",
       "      <td>0.250545</td>\n",
       "      <td>0.014217</td>\n",
       "      <td>0.123917</td>\n",
       "      <td>0.380044</td>\n",
       "      <td>0.001557</td>\n",
       "      <td>0.536703</td>\n",
       "      <td>0.050624</td>\n",
       "      <td>-0.014217</td>\n",
       "    </tr>\n",
       "    <tr>\n",
       "      <th>bedrooms</th>\n",
       "      <td>0.007698</td>\n",
       "      <td>0.231543</td>\n",
       "      <td>1.000000</td>\n",
       "      <td>0.376707</td>\n",
       "      <td>0.482859</td>\n",
       "      <td>0.011482</td>\n",
       "      <td>0.094004</td>\n",
       "      <td>-0.017219</td>\n",
       "      <td>0.045524</td>\n",
       "      <td>0.034423</td>\n",
       "      <td>0.219300</td>\n",
       "      <td>0.351820</td>\n",
       "      <td>0.275865</td>\n",
       "      <td>0.060222</td>\n",
       "      <td>0.016116</td>\n",
       "      <td>0.004847</td>\n",
       "      <td>0.064299</td>\n",
       "      <td>0.287978</td>\n",
       "      <td>0.000793</td>\n",
       "      <td>-0.060222</td>\n",
       "    </tr>\n",
       "    <tr>\n",
       "      <th>bathrooms</th>\n",
       "      <td>0.019561</td>\n",
       "      <td>0.444645</td>\n",
       "      <td>0.376707</td>\n",
       "      <td>1.000000</td>\n",
       "      <td>0.697181</td>\n",
       "      <td>0.050464</td>\n",
       "      <td>0.495525</td>\n",
       "      <td>0.024236</td>\n",
       "      <td>0.117304</td>\n",
       "      <td>-0.131729</td>\n",
       "      <td>0.602298</td>\n",
       "      <td>0.618341</td>\n",
       "      <td>0.208904</td>\n",
       "      <td>0.507011</td>\n",
       "      <td>0.041630</td>\n",
       "      <td>0.010628</td>\n",
       "      <td>0.203064</td>\n",
       "      <td>0.503801</td>\n",
       "      <td>0.041449</td>\n",
       "      <td>-0.507011</td>\n",
       "    </tr>\n",
       "    <tr>\n",
       "      <th>sqft_living</th>\n",
       "      <td>0.006973</td>\n",
       "      <td>0.612492</td>\n",
       "      <td>0.482859</td>\n",
       "      <td>0.697181</td>\n",
       "      <td>1.000000</td>\n",
       "      <td>0.133454</td>\n",
       "      <td>0.335917</td>\n",
       "      <td>0.048962</td>\n",
       "      <td>0.199549</td>\n",
       "      <td>-0.046902</td>\n",
       "      <td>0.707714</td>\n",
       "      <td>0.841868</td>\n",
       "      <td>0.376955</td>\n",
       "      <td>0.328110</td>\n",
       "      <td>0.044567</td>\n",
       "      <td>0.029123</td>\n",
       "      <td>0.246196</td>\n",
       "      <td>0.731205</td>\n",
       "      <td>0.142534</td>\n",
       "      <td>-0.328110</td>\n",
       "    </tr>\n",
       "    <tr>\n",
       "      <th>sqft_lot</th>\n",
       "      <td>-0.128392</td>\n",
       "      <td>0.067165</td>\n",
       "      <td>0.011482</td>\n",
       "      <td>0.050464</td>\n",
       "      <td>0.133454</td>\n",
       "      <td>1.000000</td>\n",
       "      <td>-0.021939</td>\n",
       "      <td>0.023850</td>\n",
       "      <td>0.069194</td>\n",
       "      <td>-0.005180</td>\n",
       "      <td>0.076727</td>\n",
       "      <td>0.147405</td>\n",
       "      <td>-0.009856</td>\n",
       "      <td>0.040366</td>\n",
       "      <td>0.010827</td>\n",
       "      <td>-0.094951</td>\n",
       "      <td>0.218399</td>\n",
       "      <td>0.128244</td>\n",
       "      <td>0.695478</td>\n",
       "      <td>-0.040366</td>\n",
       "    </tr>\n",
       "    <tr>\n",
       "      <th>floors</th>\n",
       "      <td>0.026137</td>\n",
       "      <td>0.245046</td>\n",
       "      <td>0.094004</td>\n",
       "      <td>0.495525</td>\n",
       "      <td>0.335917</td>\n",
       "      <td>-0.021939</td>\n",
       "      <td>1.000000</td>\n",
       "      <td>0.007061</td>\n",
       "      <td>-0.006137</td>\n",
       "      <td>-0.266219</td>\n",
       "      <td>0.452190</td>\n",
       "      <td>0.532123</td>\n",
       "      <td>-0.301278</td>\n",
       "      <td>0.494429</td>\n",
       "      <td>0.000316</td>\n",
       "      <td>0.041001</td>\n",
       "      <td>0.117575</td>\n",
       "      <td>0.252957</td>\n",
       "      <td>-0.032694</td>\n",
       "      <td>-0.494429</td>\n",
       "    </tr>\n",
       "    <tr>\n",
       "      <th>waterfront</th>\n",
       "      <td>-0.001557</td>\n",
       "      <td>0.194894</td>\n",
       "      <td>-0.017219</td>\n",
       "      <td>0.024236</td>\n",
       "      <td>0.048962</td>\n",
       "      <td>0.023850</td>\n",
       "      <td>0.007061</td>\n",
       "      <td>1.000000</td>\n",
       "      <td>0.384971</td>\n",
       "      <td>0.015865</td>\n",
       "      <td>0.042388</td>\n",
       "      <td>0.025353</td>\n",
       "      <td>0.045686</td>\n",
       "      <td>-0.033964</td>\n",
       "      <td>0.081967</td>\n",
       "      <td>-0.024920</td>\n",
       "      <td>-0.050079</td>\n",
       "      <td>0.056699</td>\n",
       "      <td>0.033930</td>\n",
       "      <td>0.033964</td>\n",
       "    </tr>\n",
       "    <tr>\n",
       "      <th>view</th>\n",
       "      <td>0.017273</td>\n",
       "      <td>0.334166</td>\n",
       "      <td>0.045524</td>\n",
       "      <td>0.117304</td>\n",
       "      <td>0.199549</td>\n",
       "      <td>0.069194</td>\n",
       "      <td>-0.006137</td>\n",
       "      <td>0.384971</td>\n",
       "      <td>1.000000</td>\n",
       "      <td>0.048420</td>\n",
       "      <td>0.175532</td>\n",
       "      <td>0.082451</td>\n",
       "      <td>0.222035</td>\n",
       "      <td>-0.080562</td>\n",
       "      <td>0.094275</td>\n",
       "      <td>-0.003550</td>\n",
       "      <td>-0.092648</td>\n",
       "      <td>0.222772</td>\n",
       "      <td>0.066859</td>\n",
       "      <td>0.080562</td>\n",
       "    </tr>\n",
       "    <tr>\n",
       "      <th>condition</th>\n",
       "      <td>-0.024304</td>\n",
       "      <td>0.061128</td>\n",
       "      <td>0.034423</td>\n",
       "      <td>-0.131729</td>\n",
       "      <td>-0.046902</td>\n",
       "      <td>-0.005180</td>\n",
       "      <td>-0.266219</td>\n",
       "      <td>0.015865</td>\n",
       "      <td>0.048420</td>\n",
       "      <td>1.000000</td>\n",
       "      <td>-0.146324</td>\n",
       "      <td>-0.162670</td>\n",
       "      <td>0.193735</td>\n",
       "      <td>-0.354316</td>\n",
       "      <td>-0.061029</td>\n",
       "      <td>-0.015072</td>\n",
       "      <td>-0.097043</td>\n",
       "      <td>-0.089176</td>\n",
       "      <td>0.001872</td>\n",
       "      <td>0.354316</td>\n",
       "    </tr>\n",
       "    <tr>\n",
       "      <th>grade</th>\n",
       "      <td>0.027342</td>\n",
       "      <td>0.622253</td>\n",
       "      <td>0.219300</td>\n",
       "      <td>0.602298</td>\n",
       "      <td>0.707714</td>\n",
       "      <td>0.076727</td>\n",
       "      <td>0.452190</td>\n",
       "      <td>0.042388</td>\n",
       "      <td>0.175532</td>\n",
       "      <td>-0.146324</td>\n",
       "      <td>1.000000</td>\n",
       "      <td>0.701148</td>\n",
       "      <td>0.085976</td>\n",
       "      <td>0.457342</td>\n",
       "      <td>0.004209</td>\n",
       "      <td>0.104332</td>\n",
       "      <td>0.182091</td>\n",
       "      <td>0.654283</td>\n",
       "      <td>0.078063</td>\n",
       "      <td>-0.457342</td>\n",
       "    </tr>\n",
       "    <tr>\n",
       "      <th>sqft_above</th>\n",
       "      <td>0.008417</td>\n",
       "      <td>0.504180</td>\n",
       "      <td>0.351820</td>\n",
       "      <td>0.618341</td>\n",
       "      <td>0.841868</td>\n",
       "      <td>0.147405</td>\n",
       "      <td>0.532123</td>\n",
       "      <td>0.025353</td>\n",
       "      <td>0.082451</td>\n",
       "      <td>-0.162670</td>\n",
       "      <td>0.701148</td>\n",
       "      <td>1.000000</td>\n",
       "      <td>-0.182527</td>\n",
       "      <td>0.443782</td>\n",
       "      <td>0.013084</td>\n",
       "      <td>-0.035031</td>\n",
       "      <td>0.359129</td>\n",
       "      <td>0.696499</td>\n",
       "      <td>0.156777</td>\n",
       "      <td>-0.443782</td>\n",
       "    </tr>\n",
       "    <tr>\n",
       "      <th>sqft_basement</th>\n",
       "      <td>-0.001741</td>\n",
       "      <td>0.250545</td>\n",
       "      <td>0.275865</td>\n",
       "      <td>0.208904</td>\n",
       "      <td>0.376955</td>\n",
       "      <td>-0.009856</td>\n",
       "      <td>-0.301278</td>\n",
       "      <td>0.045686</td>\n",
       "      <td>0.222035</td>\n",
       "      <td>0.193735</td>\n",
       "      <td>0.085976</td>\n",
       "      <td>-0.182527</td>\n",
       "      <td>1.000000</td>\n",
       "      <td>-0.163886</td>\n",
       "      <td>0.058737</td>\n",
       "      <td>0.113179</td>\n",
       "      <td>-0.167833</td>\n",
       "      <td>0.136751</td>\n",
       "      <td>-0.009398</td>\n",
       "      <td>0.163886</td>\n",
       "    </tr>\n",
       "    <tr>\n",
       "      <th>yr_built</th>\n",
       "      <td>0.025031</td>\n",
       "      <td>0.014217</td>\n",
       "      <td>0.060222</td>\n",
       "      <td>0.507011</td>\n",
       "      <td>0.328110</td>\n",
       "      <td>0.040366</td>\n",
       "      <td>0.494429</td>\n",
       "      <td>-0.033964</td>\n",
       "      <td>-0.080562</td>\n",
       "      <td>-0.354316</td>\n",
       "      <td>0.457342</td>\n",
       "      <td>0.443782</td>\n",
       "      <td>-0.163886</td>\n",
       "      <td>1.000000</td>\n",
       "      <td>-0.222271</td>\n",
       "      <td>-0.155876</td>\n",
       "      <td>0.400282</td>\n",
       "      <td>0.323369</td>\n",
       "      <td>0.058719</td>\n",
       "      <td>-1.000000</td>\n",
       "    </tr>\n",
       "    <tr>\n",
       "      <th>yr_renovated</th>\n",
       "      <td>-0.015429</td>\n",
       "      <td>0.123917</td>\n",
       "      <td>0.016116</td>\n",
       "      <td>0.041630</td>\n",
       "      <td>0.044567</td>\n",
       "      <td>0.010827</td>\n",
       "      <td>0.000316</td>\n",
       "      <td>0.081967</td>\n",
       "      <td>0.094275</td>\n",
       "      <td>-0.061029</td>\n",
       "      <td>0.004209</td>\n",
       "      <td>0.013084</td>\n",
       "      <td>0.058737</td>\n",
       "      <td>-0.222271</td>\n",
       "      <td>1.000000</td>\n",
       "      <td>0.026550</td>\n",
       "      <td>-0.061903</td>\n",
       "      <td>-0.015112</td>\n",
       "      <td>0.011544</td>\n",
       "      <td>0.222271</td>\n",
       "    </tr>\n",
       "    <tr>\n",
       "      <th>lat</th>\n",
       "      <td>0.001117</td>\n",
       "      <td>0.380044</td>\n",
       "      <td>0.004847</td>\n",
       "      <td>0.010628</td>\n",
       "      <td>0.029123</td>\n",
       "      <td>-0.094951</td>\n",
       "      <td>0.041001</td>\n",
       "      <td>-0.024920</td>\n",
       "      <td>-0.003550</td>\n",
       "      <td>-0.015072</td>\n",
       "      <td>0.104332</td>\n",
       "      <td>-0.035031</td>\n",
       "      <td>0.113179</td>\n",
       "      <td>-0.155876</td>\n",
       "      <td>0.026550</td>\n",
       "      <td>1.000000</td>\n",
       "      <td>-0.142123</td>\n",
       "      <td>0.029342</td>\n",
       "      <td>-0.099896</td>\n",
       "      <td>0.155876</td>\n",
       "    </tr>\n",
       "    <tr>\n",
       "      <th>long</th>\n",
       "      <td>0.021864</td>\n",
       "      <td>0.001557</td>\n",
       "      <td>0.064299</td>\n",
       "      <td>0.203064</td>\n",
       "      <td>0.246196</td>\n",
       "      <td>0.218399</td>\n",
       "      <td>0.117575</td>\n",
       "      <td>-0.050079</td>\n",
       "      <td>-0.092648</td>\n",
       "      <td>-0.097043</td>\n",
       "      <td>0.182091</td>\n",
       "      <td>0.359129</td>\n",
       "      <td>-0.167833</td>\n",
       "      <td>0.400282</td>\n",
       "      <td>-0.061903</td>\n",
       "      <td>-0.142123</td>\n",
       "      <td>1.000000</td>\n",
       "      <td>0.332776</td>\n",
       "      <td>0.248967</td>\n",
       "      <td>-0.400282</td>\n",
       "    </tr>\n",
       "    <tr>\n",
       "      <th>sqft_living15</th>\n",
       "      <td>0.007745</td>\n",
       "      <td>0.536703</td>\n",
       "      <td>0.287978</td>\n",
       "      <td>0.503801</td>\n",
       "      <td>0.731205</td>\n",
       "      <td>0.128244</td>\n",
       "      <td>0.252957</td>\n",
       "      <td>0.056699</td>\n",
       "      <td>0.222772</td>\n",
       "      <td>-0.089176</td>\n",
       "      <td>0.654283</td>\n",
       "      <td>0.696499</td>\n",
       "      <td>0.136751</td>\n",
       "      <td>0.323369</td>\n",
       "      <td>-0.015112</td>\n",
       "      <td>0.029342</td>\n",
       "      <td>0.332776</td>\n",
       "      <td>1.000000</td>\n",
       "      <td>0.165692</td>\n",
       "      <td>-0.323369</td>\n",
       "    </tr>\n",
       "    <tr>\n",
       "      <th>sqft_lot15</th>\n",
       "      <td>-0.142239</td>\n",
       "      <td>0.050624</td>\n",
       "      <td>0.000793</td>\n",
       "      <td>0.041449</td>\n",
       "      <td>0.142534</td>\n",
       "      <td>0.695478</td>\n",
       "      <td>-0.032694</td>\n",
       "      <td>0.033930</td>\n",
       "      <td>0.066859</td>\n",
       "      <td>0.001872</td>\n",
       "      <td>0.078063</td>\n",
       "      <td>0.156777</td>\n",
       "      <td>-0.009398</td>\n",
       "      <td>0.058719</td>\n",
       "      <td>0.011544</td>\n",
       "      <td>-0.099896</td>\n",
       "      <td>0.248967</td>\n",
       "      <td>0.165692</td>\n",
       "      <td>1.000000</td>\n",
       "      <td>-0.058719</td>\n",
       "    </tr>\n",
       "    <tr>\n",
       "      <th>house_year</th>\n",
       "      <td>-0.025031</td>\n",
       "      <td>-0.014217</td>\n",
       "      <td>-0.060222</td>\n",
       "      <td>-0.507011</td>\n",
       "      <td>-0.328110</td>\n",
       "      <td>-0.040366</td>\n",
       "      <td>-0.494429</td>\n",
       "      <td>0.033964</td>\n",
       "      <td>0.080562</td>\n",
       "      <td>0.354316</td>\n",
       "      <td>-0.457342</td>\n",
       "      <td>-0.443782</td>\n",
       "      <td>0.163886</td>\n",
       "      <td>-1.000000</td>\n",
       "      <td>0.222271</td>\n",
       "      <td>0.155876</td>\n",
       "      <td>-0.400282</td>\n",
       "      <td>-0.323369</td>\n",
       "      <td>-0.058719</td>\n",
       "      <td>1.000000</td>\n",
       "    </tr>\n",
       "  </tbody>\n",
       "</table>\n",
       "</div>"
      ],
      "text/plain": [
       "                     id     price  bedrooms  bathrooms  sqft_living  sqft_lot    floors  waterfront      view  condition     grade  sqft_above  sqft_basement  yr_built  yr_renovated       lat      long  sqft_living15  sqft_lot15  house_year\n",
       "id             1.000000 -0.003472  0.007698   0.019561     0.006973 -0.128392  0.026137   -0.001557  0.017273  -0.024304  0.027342    0.008417      -0.001741  0.025031     -0.015429  0.001117  0.021864       0.007745   -0.142239   -0.025031\n",
       "price         -0.003472  1.000000  0.231543   0.444645     0.612492  0.067165  0.245046    0.194894  0.334166   0.061128  0.622253    0.504180       0.250545  0.014217      0.123917  0.380044  0.001557       0.536703    0.050624   -0.014217\n",
       "bedrooms       0.007698  0.231543  1.000000   0.376707     0.482859  0.011482  0.094004   -0.017219  0.045524   0.034423  0.219300    0.351820       0.275865  0.060222      0.016116  0.004847  0.064299       0.287978    0.000793   -0.060222\n",
       "bathrooms      0.019561  0.444645  0.376707   1.000000     0.697181  0.050464  0.495525    0.024236  0.117304  -0.131729  0.602298    0.618341       0.208904  0.507011      0.041630  0.010628  0.203064       0.503801    0.041449   -0.507011\n",
       "sqft_living    0.006973  0.612492  0.482859   0.697181     1.000000  0.133454  0.335917    0.048962  0.199549  -0.046902  0.707714    0.841868       0.376955  0.328110      0.044567  0.029123  0.246196       0.731205    0.142534   -0.328110\n",
       "sqft_lot      -0.128392  0.067165  0.011482   0.050464     0.133454  1.000000 -0.021939    0.023850  0.069194  -0.005180  0.076727    0.147405      -0.009856  0.040366      0.010827 -0.094951  0.218399       0.128244    0.695478   -0.040366\n",
       "floors         0.026137  0.245046  0.094004   0.495525     0.335917 -0.021939  1.000000    0.007061 -0.006137  -0.266219  0.452190    0.532123      -0.301278  0.494429      0.000316  0.041001  0.117575       0.252957   -0.032694   -0.494429\n",
       "waterfront    -0.001557  0.194894 -0.017219   0.024236     0.048962  0.023850  0.007061    1.000000  0.384971   0.015865  0.042388    0.025353       0.045686 -0.033964      0.081967 -0.024920 -0.050079       0.056699    0.033930    0.033964\n",
       "view           0.017273  0.334166  0.045524   0.117304     0.199549  0.069194 -0.006137    0.384971  1.000000   0.048420  0.175532    0.082451       0.222035 -0.080562      0.094275 -0.003550 -0.092648       0.222772    0.066859    0.080562\n",
       "condition     -0.024304  0.061128  0.034423  -0.131729    -0.046902 -0.005180 -0.266219    0.015865  0.048420   1.000000 -0.146324   -0.162670       0.193735 -0.354316     -0.061029 -0.015072 -0.097043      -0.089176    0.001872    0.354316\n",
       "grade          0.027342  0.622253  0.219300   0.602298     0.707714  0.076727  0.452190    0.042388  0.175532  -0.146324  1.000000    0.701148       0.085976  0.457342      0.004209  0.104332  0.182091       0.654283    0.078063   -0.457342\n",
       "sqft_above     0.008417  0.504180  0.351820   0.618341     0.841868  0.147405  0.532123    0.025353  0.082451  -0.162670  0.701148    1.000000      -0.182527  0.443782      0.013084 -0.035031  0.359129       0.696499    0.156777   -0.443782\n",
       "sqft_basement -0.001741  0.250545  0.275865   0.208904     0.376955 -0.009856 -0.301278    0.045686  0.222035   0.193735  0.085976   -0.182527       1.000000 -0.163886      0.058737  0.113179 -0.167833       0.136751   -0.009398    0.163886\n",
       "yr_built       0.025031  0.014217  0.060222   0.507011     0.328110  0.040366  0.494429   -0.033964 -0.080562  -0.354316  0.457342    0.443782      -0.163886  1.000000     -0.222271 -0.155876  0.400282       0.323369    0.058719   -1.000000\n",
       "yr_renovated  -0.015429  0.123917  0.016116   0.041630     0.044567  0.010827  0.000316    0.081967  0.094275  -0.061029  0.004209    0.013084       0.058737 -0.222271      1.000000  0.026550 -0.061903      -0.015112    0.011544    0.222271\n",
       "lat            0.001117  0.380044  0.004847   0.010628     0.029123 -0.094951  0.041001   -0.024920 -0.003550  -0.015072  0.104332   -0.035031       0.113179 -0.155876      0.026550  1.000000 -0.142123       0.029342   -0.099896    0.155876\n",
       "long           0.021864  0.001557  0.064299   0.203064     0.246196  0.218399  0.117575   -0.050079 -0.092648  -0.097043  0.182091    0.359129      -0.167833  0.400282     -0.061903 -0.142123  1.000000       0.332776    0.248967   -0.400282\n",
       "sqft_living15  0.007745  0.536703  0.287978   0.503801     0.731205  0.128244  0.252957    0.056699  0.222772  -0.089176  0.654283    0.696499       0.136751  0.323369     -0.015112  0.029342  0.332776       1.000000    0.165692   -0.323369\n",
       "sqft_lot15    -0.142239  0.050624  0.000793   0.041449     0.142534  0.695478 -0.032694    0.033930  0.066859   0.001872  0.078063    0.156777      -0.009398  0.058719      0.011544 -0.099896  0.248967       0.165692    1.000000   -0.058719\n",
       "house_year    -0.025031 -0.014217 -0.060222  -0.507011    -0.328110 -0.040366 -0.494429    0.033964  0.080562   0.354316 -0.457342   -0.443782       0.163886 -1.000000      0.222271  0.155876 -0.400282      -0.323369   -0.058719    1.000000"
      ]
     },
     "execution_count": 29,
     "metadata": {},
     "output_type": "execute_result"
    }
   ],
   "source": [
    "df.corr() #birbiriri arasındaki bağlantıyı gösterir."
   ]
  },
  {
   "cell_type": "code",
   "execution_count": 30,
   "id": "0d1bdb2c",
   "metadata": {},
   "outputs": [
    {
     "data": {
      "text/plain": [
       "price            1.000000\n",
       "grade            0.622253\n",
       "sqft_living      0.612492\n",
       "sqft_living15    0.536703\n",
       "sqft_above       0.504180\n",
       "bathrooms        0.444645\n",
       "lat              0.380044\n",
       "view             0.334166\n",
       "sqft_basement    0.250545\n",
       "floors           0.245046\n",
       "bedrooms         0.231543\n",
       "waterfront       0.194894\n",
       "yr_renovated     0.123917\n",
       "sqft_lot         0.067165\n",
       "condition        0.061128\n",
       "sqft_lot15       0.050624\n",
       "yr_built         0.014217\n",
       "house_year       0.014217\n",
       "id               0.003472\n",
       "long             0.001557\n",
       "Name: price, dtype: float64"
      ]
     },
     "execution_count": 30,
     "metadata": {},
     "output_type": "execute_result"
    }
   ],
   "source": [
    "abs(df.corr()[\"price\"]).sort_values(ascending = False) "
   ]
  },
  {
   "cell_type": "code",
   "execution_count": 31,
   "id": "f18f8428",
   "metadata": {},
   "outputs": [],
   "source": [
    "df[\"basement\"]=np.where(df[\"sqft_basement\"]>0, 1 , 0)\n",
    "df[\"renovated\"]=np.where(df[\"yr_renovated\"]>0, 1 , 0)\n",
    "#sqft_basement anlamı kaç metrekare bodrum oldığunu söyler. Bodrumun kaç metrekare olduğundan çok olup olmaması önemli o yüzden e\n",
    "# eğer metrekaresi 0 dan büyükse yani varsa 1 yoksa 0 yaptık.\n",
    "\n",
    "#Aynı şekilde renovated evin yenilenmesidir . Ne zaman yenilendiğinden çok yenilenip yenilenmemesi bizim için önemlidir."
   ]
  },
  {
   "cell_type": "code",
   "execution_count": 32,
   "id": "3f085f98",
   "metadata": {},
   "outputs": [],
   "source": [
    "outliers = df.quantile(.97) #burada outlier verileri belirleyen bir fonksiyon kullandık\n",
    "df = df[(df['price']<outliers['price'])]\n",
    "df = df[(df['bedrooms']<outliers['bedrooms'])]\n",
    "df = df[(df['sqft_living']<outliers['sqft_living'])]"
   ]
  },
  {
   "cell_type": "code",
   "execution_count": 33,
   "id": "3d66ec10",
   "metadata": {},
   "outputs": [],
   "source": [
    "from sklearn.linear_model import LinearRegression\n",
    "from sklearn.model_selection import train_test_split"
   ]
  },
  {
   "cell_type": "markdown",
   "id": "3a4785e9",
   "metadata": {},
   "source": [
    "# Daha Gelişmiş bir algoritma"
   ]
  },
  {
   "cell_type": "code",
   "execution_count": 34,
   "id": "fd96fdc7",
   "metadata": {},
   "outputs": [],
   "source": [
    "x = df[[\"sqft_living\",\"grade\",\"sqft_above\",\"sqft_living15\",\"bathrooms\",\"view\",\"basement\",\n",
    "        \"bedrooms\",\"lat\",\"floors\",\"zipcode\",\"renovated\",\"house_year\"]]\n",
    "y = df[[\"price\"]]\n"
   ]
  },
  {
   "cell_type": "code",
   "execution_count": 35,
   "id": "12c9f35b",
   "metadata": {},
   "outputs": [
    {
     "data": {
      "text/html": [
       "<div>\n",
       "<style scoped>\n",
       "    .dataframe tbody tr th:only-of-type {\n",
       "        vertical-align: middle;\n",
       "    }\n",
       "\n",
       "    .dataframe tbody tr th {\n",
       "        vertical-align: top;\n",
       "    }\n",
       "\n",
       "    .dataframe thead th {\n",
       "        text-align: right;\n",
       "    }\n",
       "</style>\n",
       "<table border=\"1\" class=\"dataframe\">\n",
       "  <thead>\n",
       "    <tr style=\"text-align: right;\">\n",
       "      <th></th>\n",
       "      <th>sqft_living</th>\n",
       "      <th>grade</th>\n",
       "      <th>sqft_above</th>\n",
       "      <th>sqft_living15</th>\n",
       "      <th>bathrooms</th>\n",
       "      <th>view</th>\n",
       "      <th>basement</th>\n",
       "      <th>bedrooms</th>\n",
       "      <th>lat</th>\n",
       "      <th>floors</th>\n",
       "      <th>renovated</th>\n",
       "      <th>house_year</th>\n",
       "      <th>zipcode_98002</th>\n",
       "      <th>zipcode_98003</th>\n",
       "      <th>zipcode_98004</th>\n",
       "      <th>zipcode_98005</th>\n",
       "      <th>zipcode_98006</th>\n",
       "      <th>zipcode_98007</th>\n",
       "      <th>zipcode_98008</th>\n",
       "      <th>zipcode_98010</th>\n",
       "      <th>zipcode_98011</th>\n",
       "      <th>zipcode_98014</th>\n",
       "      <th>zipcode_98019</th>\n",
       "      <th>zipcode_98022</th>\n",
       "      <th>zipcode_98023</th>\n",
       "      <th>zipcode_98024</th>\n",
       "      <th>zipcode_98027</th>\n",
       "      <th>zipcode_98028</th>\n",
       "      <th>zipcode_98029</th>\n",
       "      <th>zipcode_98030</th>\n",
       "      <th>zipcode_98031</th>\n",
       "      <th>zipcode_98032</th>\n",
       "      <th>zipcode_98033</th>\n",
       "      <th>zipcode_98034</th>\n",
       "      <th>zipcode_98038</th>\n",
       "      <th>zipcode_98039</th>\n",
       "      <th>zipcode_98040</th>\n",
       "      <th>zipcode_98042</th>\n",
       "      <th>zipcode_98045</th>\n",
       "      <th>zipcode_98052</th>\n",
       "      <th>zipcode_98053</th>\n",
       "      <th>zipcode_98055</th>\n",
       "      <th>zipcode_98056</th>\n",
       "      <th>zipcode_98058</th>\n",
       "      <th>zipcode_98059</th>\n",
       "      <th>zipcode_98065</th>\n",
       "      <th>zipcode_98070</th>\n",
       "      <th>zipcode_98072</th>\n",
       "      <th>zipcode_98074</th>\n",
       "      <th>zipcode_98075</th>\n",
       "      <th>zipcode_98077</th>\n",
       "      <th>zipcode_98092</th>\n",
       "      <th>zipcode_98102</th>\n",
       "      <th>zipcode_98103</th>\n",
       "      <th>zipcode_98105</th>\n",
       "      <th>zipcode_98106</th>\n",
       "      <th>zipcode_98107</th>\n",
       "      <th>zipcode_98108</th>\n",
       "      <th>zipcode_98109</th>\n",
       "      <th>zipcode_98112</th>\n",
       "      <th>zipcode_98115</th>\n",
       "      <th>zipcode_98116</th>\n",
       "      <th>zipcode_98117</th>\n",
       "      <th>zipcode_98118</th>\n",
       "      <th>zipcode_98119</th>\n",
       "      <th>zipcode_98122</th>\n",
       "      <th>zipcode_98125</th>\n",
       "      <th>zipcode_98126</th>\n",
       "      <th>zipcode_98133</th>\n",
       "      <th>zipcode_98136</th>\n",
       "      <th>zipcode_98144</th>\n",
       "      <th>zipcode_98146</th>\n",
       "      <th>zipcode_98148</th>\n",
       "      <th>zipcode_98155</th>\n",
       "      <th>zipcode_98166</th>\n",
       "      <th>zipcode_98168</th>\n",
       "      <th>zipcode_98177</th>\n",
       "      <th>zipcode_98178</th>\n",
       "      <th>zipcode_98188</th>\n",
       "      <th>zipcode_98198</th>\n",
       "      <th>zipcode_98199</th>\n",
       "    </tr>\n",
       "  </thead>\n",
       "  <tbody>\n",
       "    <tr>\n",
       "      <th>0</th>\n",
       "      <td>1180</td>\n",
       "      <td>3.5</td>\n",
       "      <td>1180</td>\n",
       "      <td>1340</td>\n",
       "      <td>1.0000</td>\n",
       "      <td>0</td>\n",
       "      <td>0</td>\n",
       "      <td>81</td>\n",
       "      <td>47.5112</td>\n",
       "      <td>1.0</td>\n",
       "      <td>0</td>\n",
       "      <td>66</td>\n",
       "      <td>0</td>\n",
       "      <td>0</td>\n",
       "      <td>0</td>\n",
       "      <td>0</td>\n",
       "      <td>0</td>\n",
       "      <td>0</td>\n",
       "      <td>0</td>\n",
       "      <td>0</td>\n",
       "      <td>0</td>\n",
       "      <td>0</td>\n",
       "      <td>0</td>\n",
       "      <td>0</td>\n",
       "      <td>0</td>\n",
       "      <td>0</td>\n",
       "      <td>0</td>\n",
       "      <td>0</td>\n",
       "      <td>0</td>\n",
       "      <td>0</td>\n",
       "      <td>0</td>\n",
       "      <td>0</td>\n",
       "      <td>0</td>\n",
       "      <td>0</td>\n",
       "      <td>0</td>\n",
       "      <td>0</td>\n",
       "      <td>0</td>\n",
       "      <td>0</td>\n",
       "      <td>0</td>\n",
       "      <td>0</td>\n",
       "      <td>0</td>\n",
       "      <td>0</td>\n",
       "      <td>0</td>\n",
       "      <td>0</td>\n",
       "      <td>0</td>\n",
       "      <td>0</td>\n",
       "      <td>0</td>\n",
       "      <td>0</td>\n",
       "      <td>0</td>\n",
       "      <td>0</td>\n",
       "      <td>0</td>\n",
       "      <td>0</td>\n",
       "      <td>0</td>\n",
       "      <td>0</td>\n",
       "      <td>0</td>\n",
       "      <td>0</td>\n",
       "      <td>0</td>\n",
       "      <td>0</td>\n",
       "      <td>0</td>\n",
       "      <td>0</td>\n",
       "      <td>0</td>\n",
       "      <td>0</td>\n",
       "      <td>0</td>\n",
       "      <td>0</td>\n",
       "      <td>0</td>\n",
       "      <td>0</td>\n",
       "      <td>0</td>\n",
       "      <td>0</td>\n",
       "      <td>0</td>\n",
       "      <td>0</td>\n",
       "      <td>0</td>\n",
       "      <td>0</td>\n",
       "      <td>0</td>\n",
       "      <td>0</td>\n",
       "      <td>0</td>\n",
       "      <td>0</td>\n",
       "      <td>0</td>\n",
       "      <td>1</td>\n",
       "      <td>0</td>\n",
       "      <td>0</td>\n",
       "      <td>0</td>\n",
       "    </tr>\n",
       "    <tr>\n",
       "      <th>1</th>\n",
       "      <td>2570</td>\n",
       "      <td>3.5</td>\n",
       "      <td>2170</td>\n",
       "      <td>1690</td>\n",
       "      <td>5.0625</td>\n",
       "      <td>0</td>\n",
       "      <td>1</td>\n",
       "      <td>81</td>\n",
       "      <td>47.7210</td>\n",
       "      <td>2.0</td>\n",
       "      <td>1</td>\n",
       "      <td>70</td>\n",
       "      <td>0</td>\n",
       "      <td>0</td>\n",
       "      <td>0</td>\n",
       "      <td>0</td>\n",
       "      <td>0</td>\n",
       "      <td>0</td>\n",
       "      <td>0</td>\n",
       "      <td>0</td>\n",
       "      <td>0</td>\n",
       "      <td>0</td>\n",
       "      <td>0</td>\n",
       "      <td>0</td>\n",
       "      <td>0</td>\n",
       "      <td>0</td>\n",
       "      <td>0</td>\n",
       "      <td>0</td>\n",
       "      <td>0</td>\n",
       "      <td>0</td>\n",
       "      <td>0</td>\n",
       "      <td>0</td>\n",
       "      <td>0</td>\n",
       "      <td>0</td>\n",
       "      <td>0</td>\n",
       "      <td>0</td>\n",
       "      <td>0</td>\n",
       "      <td>0</td>\n",
       "      <td>0</td>\n",
       "      <td>0</td>\n",
       "      <td>0</td>\n",
       "      <td>0</td>\n",
       "      <td>0</td>\n",
       "      <td>0</td>\n",
       "      <td>0</td>\n",
       "      <td>0</td>\n",
       "      <td>0</td>\n",
       "      <td>0</td>\n",
       "      <td>0</td>\n",
       "      <td>0</td>\n",
       "      <td>0</td>\n",
       "      <td>0</td>\n",
       "      <td>0</td>\n",
       "      <td>0</td>\n",
       "      <td>0</td>\n",
       "      <td>0</td>\n",
       "      <td>0</td>\n",
       "      <td>0</td>\n",
       "      <td>0</td>\n",
       "      <td>0</td>\n",
       "      <td>0</td>\n",
       "      <td>0</td>\n",
       "      <td>0</td>\n",
       "      <td>0</td>\n",
       "      <td>0</td>\n",
       "      <td>0</td>\n",
       "      <td>1</td>\n",
       "      <td>0</td>\n",
       "      <td>0</td>\n",
       "      <td>0</td>\n",
       "      <td>0</td>\n",
       "      <td>0</td>\n",
       "      <td>0</td>\n",
       "      <td>0</td>\n",
       "      <td>0</td>\n",
       "      <td>0</td>\n",
       "      <td>0</td>\n",
       "      <td>0</td>\n",
       "      <td>0</td>\n",
       "      <td>0</td>\n",
       "      <td>0</td>\n",
       "    </tr>\n",
       "    <tr>\n",
       "      <th>2</th>\n",
       "      <td>770</td>\n",
       "      <td>3.0</td>\n",
       "      <td>770</td>\n",
       "      <td>2720</td>\n",
       "      <td>1.0000</td>\n",
       "      <td>0</td>\n",
       "      <td>0</td>\n",
       "      <td>16</td>\n",
       "      <td>47.7379</td>\n",
       "      <td>1.0</td>\n",
       "      <td>0</td>\n",
       "      <td>88</td>\n",
       "      <td>0</td>\n",
       "      <td>0</td>\n",
       "      <td>0</td>\n",
       "      <td>0</td>\n",
       "      <td>0</td>\n",
       "      <td>0</td>\n",
       "      <td>0</td>\n",
       "      <td>0</td>\n",
       "      <td>0</td>\n",
       "      <td>0</td>\n",
       "      <td>0</td>\n",
       "      <td>0</td>\n",
       "      <td>0</td>\n",
       "      <td>0</td>\n",
       "      <td>0</td>\n",
       "      <td>1</td>\n",
       "      <td>0</td>\n",
       "      <td>0</td>\n",
       "      <td>0</td>\n",
       "      <td>0</td>\n",
       "      <td>0</td>\n",
       "      <td>0</td>\n",
       "      <td>0</td>\n",
       "      <td>0</td>\n",
       "      <td>0</td>\n",
       "      <td>0</td>\n",
       "      <td>0</td>\n",
       "      <td>0</td>\n",
       "      <td>0</td>\n",
       "      <td>0</td>\n",
       "      <td>0</td>\n",
       "      <td>0</td>\n",
       "      <td>0</td>\n",
       "      <td>0</td>\n",
       "      <td>0</td>\n",
       "      <td>0</td>\n",
       "      <td>0</td>\n",
       "      <td>0</td>\n",
       "      <td>0</td>\n",
       "      <td>0</td>\n",
       "      <td>0</td>\n",
       "      <td>0</td>\n",
       "      <td>0</td>\n",
       "      <td>0</td>\n",
       "      <td>0</td>\n",
       "      <td>0</td>\n",
       "      <td>0</td>\n",
       "      <td>0</td>\n",
       "      <td>0</td>\n",
       "      <td>0</td>\n",
       "      <td>0</td>\n",
       "      <td>0</td>\n",
       "      <td>0</td>\n",
       "      <td>0</td>\n",
       "      <td>0</td>\n",
       "      <td>0</td>\n",
       "      <td>0</td>\n",
       "      <td>0</td>\n",
       "      <td>0</td>\n",
       "      <td>0</td>\n",
       "      <td>0</td>\n",
       "      <td>0</td>\n",
       "      <td>0</td>\n",
       "      <td>0</td>\n",
       "      <td>0</td>\n",
       "      <td>0</td>\n",
       "      <td>0</td>\n",
       "      <td>0</td>\n",
       "      <td>0</td>\n",
       "    </tr>\n",
       "    <tr>\n",
       "      <th>3</th>\n",
       "      <td>1960</td>\n",
       "      <td>3.5</td>\n",
       "      <td>1050</td>\n",
       "      <td>1360</td>\n",
       "      <td>9.0000</td>\n",
       "      <td>0</td>\n",
       "      <td>1</td>\n",
       "      <td>256</td>\n",
       "      <td>47.5208</td>\n",
       "      <td>1.0</td>\n",
       "      <td>0</td>\n",
       "      <td>56</td>\n",
       "      <td>0</td>\n",
       "      <td>0</td>\n",
       "      <td>0</td>\n",
       "      <td>0</td>\n",
       "      <td>0</td>\n",
       "      <td>0</td>\n",
       "      <td>0</td>\n",
       "      <td>0</td>\n",
       "      <td>0</td>\n",
       "      <td>0</td>\n",
       "      <td>0</td>\n",
       "      <td>0</td>\n",
       "      <td>0</td>\n",
       "      <td>0</td>\n",
       "      <td>0</td>\n",
       "      <td>0</td>\n",
       "      <td>0</td>\n",
       "      <td>0</td>\n",
       "      <td>0</td>\n",
       "      <td>0</td>\n",
       "      <td>0</td>\n",
       "      <td>0</td>\n",
       "      <td>0</td>\n",
       "      <td>0</td>\n",
       "      <td>0</td>\n",
       "      <td>0</td>\n",
       "      <td>0</td>\n",
       "      <td>0</td>\n",
       "      <td>0</td>\n",
       "      <td>0</td>\n",
       "      <td>0</td>\n",
       "      <td>0</td>\n",
       "      <td>0</td>\n",
       "      <td>0</td>\n",
       "      <td>0</td>\n",
       "      <td>0</td>\n",
       "      <td>0</td>\n",
       "      <td>0</td>\n",
       "      <td>0</td>\n",
       "      <td>0</td>\n",
       "      <td>0</td>\n",
       "      <td>0</td>\n",
       "      <td>0</td>\n",
       "      <td>0</td>\n",
       "      <td>0</td>\n",
       "      <td>0</td>\n",
       "      <td>0</td>\n",
       "      <td>0</td>\n",
       "      <td>0</td>\n",
       "      <td>0</td>\n",
       "      <td>0</td>\n",
       "      <td>0</td>\n",
       "      <td>0</td>\n",
       "      <td>0</td>\n",
       "      <td>0</td>\n",
       "      <td>0</td>\n",
       "      <td>0</td>\n",
       "      <td>1</td>\n",
       "      <td>0</td>\n",
       "      <td>0</td>\n",
       "      <td>0</td>\n",
       "      <td>0</td>\n",
       "      <td>0</td>\n",
       "      <td>0</td>\n",
       "      <td>0</td>\n",
       "      <td>0</td>\n",
       "      <td>0</td>\n",
       "      <td>0</td>\n",
       "      <td>0</td>\n",
       "    </tr>\n",
       "    <tr>\n",
       "      <th>4</th>\n",
       "      <td>1680</td>\n",
       "      <td>4.0</td>\n",
       "      <td>1680</td>\n",
       "      <td>1800</td>\n",
       "      <td>4.0000</td>\n",
       "      <td>0</td>\n",
       "      <td>0</td>\n",
       "      <td>81</td>\n",
       "      <td>47.6168</td>\n",
       "      <td>1.0</td>\n",
       "      <td>0</td>\n",
       "      <td>34</td>\n",
       "      <td>0</td>\n",
       "      <td>0</td>\n",
       "      <td>0</td>\n",
       "      <td>0</td>\n",
       "      <td>0</td>\n",
       "      <td>0</td>\n",
       "      <td>0</td>\n",
       "      <td>0</td>\n",
       "      <td>0</td>\n",
       "      <td>0</td>\n",
       "      <td>0</td>\n",
       "      <td>0</td>\n",
       "      <td>0</td>\n",
       "      <td>0</td>\n",
       "      <td>0</td>\n",
       "      <td>0</td>\n",
       "      <td>0</td>\n",
       "      <td>0</td>\n",
       "      <td>0</td>\n",
       "      <td>0</td>\n",
       "      <td>0</td>\n",
       "      <td>0</td>\n",
       "      <td>0</td>\n",
       "      <td>0</td>\n",
       "      <td>0</td>\n",
       "      <td>0</td>\n",
       "      <td>0</td>\n",
       "      <td>0</td>\n",
       "      <td>0</td>\n",
       "      <td>0</td>\n",
       "      <td>0</td>\n",
       "      <td>0</td>\n",
       "      <td>0</td>\n",
       "      <td>0</td>\n",
       "      <td>0</td>\n",
       "      <td>0</td>\n",
       "      <td>1</td>\n",
       "      <td>0</td>\n",
       "      <td>0</td>\n",
       "      <td>0</td>\n",
       "      <td>0</td>\n",
       "      <td>0</td>\n",
       "      <td>0</td>\n",
       "      <td>0</td>\n",
       "      <td>0</td>\n",
       "      <td>0</td>\n",
       "      <td>0</td>\n",
       "      <td>0</td>\n",
       "      <td>0</td>\n",
       "      <td>0</td>\n",
       "      <td>0</td>\n",
       "      <td>0</td>\n",
       "      <td>0</td>\n",
       "      <td>0</td>\n",
       "      <td>0</td>\n",
       "      <td>0</td>\n",
       "      <td>0</td>\n",
       "      <td>0</td>\n",
       "      <td>0</td>\n",
       "      <td>0</td>\n",
       "      <td>0</td>\n",
       "      <td>0</td>\n",
       "      <td>0</td>\n",
       "      <td>0</td>\n",
       "      <td>0</td>\n",
       "      <td>0</td>\n",
       "      <td>0</td>\n",
       "      <td>0</td>\n",
       "      <td>0</td>\n",
       "    </tr>\n",
       "  </tbody>\n",
       "</table>\n",
       "</div>"
      ],
      "text/plain": [
       "   sqft_living  grade  sqft_above  sqft_living15  bathrooms  view  basement  bedrooms      lat  floors  renovated  house_year  zipcode_98002  zipcode_98003  zipcode_98004  zipcode_98005  zipcode_98006  zipcode_98007  zipcode_98008  zipcode_98010  zipcode_98011  zipcode_98014  zipcode_98019  zipcode_98022  zipcode_98023  zipcode_98024  zipcode_98027  zipcode_98028  zipcode_98029  zipcode_98030  zipcode_98031  zipcode_98032  zipcode_98033  zipcode_98034  zipcode_98038  zipcode_98039  zipcode_98040  zipcode_98042  zipcode_98045  zipcode_98052  zipcode_98053  zipcode_98055  zipcode_98056  zipcode_98058  zipcode_98059  zipcode_98065  zipcode_98070  zipcode_98072  zipcode_98074  zipcode_98075  zipcode_98077  zipcode_98092  zipcode_98102  zipcode_98103  zipcode_98105  zipcode_98106  zipcode_98107  zipcode_98108  zipcode_98109  zipcode_98112  zipcode_98115  zipcode_98116  zipcode_98117  zipcode_98118  zipcode_98119  zipcode_98122  zipcode_98125  zipcode_98126  zipcode_98133  zipcode_98136  \\\n",
       "0         1180    3.5        1180           1340     1.0000     0         0        81  47.5112     1.0          0          66              0              0              0              0              0              0              0              0              0              0              0              0              0              0              0              0              0              0              0              0              0              0              0              0              0              0              0              0              0              0              0              0              0              0              0              0              0              0              0              0              0              0              0              0              0              0              0              0              0              0              0              0              0              0              0              0              0              0   \n",
       "1         2570    3.5        2170           1690     5.0625     0         1        81  47.7210     2.0          1          70              0              0              0              0              0              0              0              0              0              0              0              0              0              0              0              0              0              0              0              0              0              0              0              0              0              0              0              0              0              0              0              0              0              0              0              0              0              0              0              0              0              0              0              0              0              0              0              0              0              0              0              0              0              0              1              0              0              0   \n",
       "2          770    3.0         770           2720     1.0000     0         0        16  47.7379     1.0          0          88              0              0              0              0              0              0              0              0              0              0              0              0              0              0              0              1              0              0              0              0              0              0              0              0              0              0              0              0              0              0              0              0              0              0              0              0              0              0              0              0              0              0              0              0              0              0              0              0              0              0              0              0              0              0              0              0              0              0   \n",
       "3         1960    3.5        1050           1360     9.0000     0         1       256  47.5208     1.0          0          56              0              0              0              0              0              0              0              0              0              0              0              0              0              0              0              0              0              0              0              0              0              0              0              0              0              0              0              0              0              0              0              0              0              0              0              0              0              0              0              0              0              0              0              0              0              0              0              0              0              0              0              0              0              0              0              0              0              1   \n",
       "4         1680    4.0        1680           1800     4.0000     0         0        81  47.6168     1.0          0          34              0              0              0              0              0              0              0              0              0              0              0              0              0              0              0              0              0              0              0              0              0              0              0              0              0              0              0              0              0              0              0              0              0              0              0              0              1              0              0              0              0              0              0              0              0              0              0              0              0              0              0              0              0              0              0              0              0              0   \n",
       "\n",
       "   zipcode_98144  zipcode_98146  zipcode_98148  zipcode_98155  zipcode_98166  zipcode_98168  zipcode_98177  zipcode_98178  zipcode_98188  zipcode_98198  zipcode_98199  \n",
       "0              0              0              0              0              0              0              0              1              0              0              0  \n",
       "1              0              0              0              0              0              0              0              0              0              0              0  \n",
       "2              0              0              0              0              0              0              0              0              0              0              0  \n",
       "3              0              0              0              0              0              0              0              0              0              0              0  \n",
       "4              0              0              0              0              0              0              0              0              0              0              0  "
      ]
     },
     "execution_count": 35,
     "metadata": {},
     "output_type": "execute_result"
    }
   ],
   "source": [
    "x = pd.get_dummies(x , drop_first = True)\n",
    "x.head()\n",
    "#dummy variable yaptık bu sayede sadece sayılarla uğraşacağız(2.derste işlendi detayı orada var)\n"
   ]
  },
  {
   "cell_type": "code",
   "execution_count": 36,
   "id": "c56ce678",
   "metadata": {},
   "outputs": [
    {
     "data": {
      "text/plain": [
       "array([[413654.34071615],\n",
       "       [377499.58055336],\n",
       "       [688460.2202885 ],\n",
       "       ...,\n",
       "       [564454.8790103 ],\n",
       "       [576712.91126778],\n",
       "       [386824.16746682]])"
      ]
     },
     "execution_count": 36,
     "metadata": {},
     "output_type": "execute_result"
    }
   ],
   "source": [
    "x_train , x_test , y_train , y_test = train_test_split(x,y, test_size = 0.2 , random_state= 42)\n",
    "lr = LinearRegression()\n",
    "regmodel = lr.fit(x_train , y_train) # fit diyerek veriden öğrenme işlemi gerçekleşiyor\n",
    "y_pretest = regmodel.predict(x_test) \n",
    "y_pretest\n"
   ]
  },
  {
   "cell_type": "code",
   "execution_count": null,
   "id": "df58341b",
   "metadata": {},
   "outputs": [],
   "source": []
  },
  {
   "cell_type": "code",
   "execution_count": 37,
   "id": "5d24a18c",
   "metadata": {},
   "outputs": [
    {
     "data": {
      "text/plain": [
       "((14619, 81), (3655, 1))"
      ]
     },
     "execution_count": 37,
     "metadata": {},
     "output_type": "execute_result"
    }
   ],
   "source": [
    "x_train.shape , y_test.shape"
   ]
  },
  {
   "cell_type": "code",
   "execution_count": 38,
   "id": "31301696",
   "metadata": {},
   "outputs": [
    {
     "data": {
      "text/plain": [
       "83850.6572073708"
      ]
     },
     "execution_count": 38,
     "metadata": {},
     "output_type": "execute_result"
    }
   ],
   "source": [
    "from sklearn.metrics import mean_squared_error , r2_score \n",
    "(mean_squared_error(y_test, y_pretest))**0.5 \n",
    "#242 araba içinde fiyat tahmin etmedeki toplam hata(gerçek değer ile tahmin arasındaki fark) 1715 $'dır.\n",
    "#karesini alıp karekökünü alarak eksi çıkanları da hesaba dahil etmiş oluruz."
   ]
  },
  {
   "cell_type": "code",
   "execution_count": 39,
   "id": "85970700",
   "metadata": {},
   "outputs": [
    {
     "data": {
      "text/plain": [
       "0.8098986238128518"
      ]
     },
     "execution_count": 39,
     "metadata": {},
     "output_type": "execute_result"
    }
   ],
   "source": [
    "r2_score(y_test,y_pretest)\n",
    "#r2 %80 ve üzeri ise modelimiz başarılıdır burada %97"
   ]
  },
  {
   "cell_type": "markdown",
   "id": "23a47c4a",
   "metadata": {},
   "source": [
    "# Ridge ve Lasso"
   ]
  },
  {
   "cell_type": "code",
   "execution_count": 40,
   "id": "88588f2f",
   "metadata": {},
   "outputs": [],
   "source": [
    "from sklearn.linear_model import Ridge,Lasso"
   ]
  },
  {
   "cell_type": "code",
   "execution_count": 41,
   "id": "eb5d7b6b",
   "metadata": {},
   "outputs": [],
   "source": [
    "R=Ridge()\n",
    "R.fit(x_train , y_train)\n",
    "y_pred_ridge = R.predict(x_test)\n",
    "#fit ve predict yine aynı"
   ]
  },
  {
   "cell_type": "code",
   "execution_count": 42,
   "id": "f05d79e9",
   "metadata": {},
   "outputs": [
    {
     "data": {
      "text/plain": [
       "84011.05676461817"
      ]
     },
     "execution_count": 42,
     "metadata": {},
     "output_type": "execute_result"
    }
   ],
   "source": [
    "(mean_squared_error(y_test, y_pred_ridge))**0.5 "
   ]
  },
  {
   "cell_type": "code",
   "execution_count": 43,
   "id": "0cfcf0d8",
   "metadata": {},
   "outputs": [
    {
     "data": {
      "text/plain": [
       "0.8091706309233833"
      ]
     },
     "execution_count": 43,
     "metadata": {},
     "output_type": "execute_result"
    }
   ],
   "source": [
    "r2_score(y_test,y_pred_ridge)\n",
    "#%96 oranında başarı demek ki oranımız yüksek"
   ]
  },
  {
   "cell_type": "markdown",
   "id": "d137207a",
   "metadata": {},
   "source": [
    "Şimdi lasso 'yu çalıştıracaz"
   ]
  },
  {
   "cell_type": "code",
   "execution_count": 44,
   "id": "7d80d325",
   "metadata": {},
   "outputs": [],
   "source": [
    "L=Lasso()\n",
    "L.fit(x_train , y_train)\n",
    "y_pred_lasso = L.predict(x_test)"
   ]
  },
  {
   "cell_type": "code",
   "execution_count": 45,
   "id": "b86d05bc",
   "metadata": {},
   "outputs": [
    {
     "data": {
      "text/plain": [
       "83847.0553017537"
      ]
     },
     "execution_count": 45,
     "metadata": {},
     "output_type": "execute_result"
    }
   ],
   "source": [
    "(mean_squared_error(y_test, y_pred_lasso))**0.5 "
   ]
  },
  {
   "cell_type": "code",
   "execution_count": 46,
   "id": "68b70b7d",
   "metadata": {},
   "outputs": [
    {
     "data": {
      "text/plain": [
       "0.8091706309233833"
      ]
     },
     "execution_count": 46,
     "metadata": {},
     "output_type": "execute_result"
    }
   ],
   "source": [
    "r2_score(y_test,y_pred_ridge)\n",
    "#ridge ile aynı template'i kullanır"
   ]
  },
  {
   "cell_type": "markdown",
   "id": "676f0ca4",
   "metadata": {},
   "source": [
    "### ElasticNet\n"
   ]
  },
  {
   "cell_type": "code",
   "execution_count": 47,
   "id": "2247bbb9",
   "metadata": {},
   "outputs": [],
   "source": [
    "from sklearn.linear_model import ElasticNet\n",
    "E= ElasticNet(l1_ratio = 0.2)\n",
    "\n",
    "#l1= lasso\n",
    "#l2=ridge\n",
    "#lassonun % 80 oranında çalılşmasını sağladık\n",
    "\n",
    "#Elasticnet dedğimiz şey aslında lsasso ve ridge karışımı bir şey olur"
   ]
  },
  {
   "cell_type": "code",
   "execution_count": 48,
   "id": "607893e8",
   "metadata": {},
   "outputs": [],
   "source": [
    "E.fit(x_train , y_train)\n",
    "y_pred_elastic = E.predict(x_test)"
   ]
  },
  {
   "cell_type": "code",
   "execution_count": 49,
   "id": "628bf5f2",
   "metadata": {},
   "outputs": [
    {
     "data": {
      "text/plain": [
       "141810.6049634258"
      ]
     },
     "execution_count": 49,
     "metadata": {},
     "output_type": "execute_result"
    }
   ],
   "source": [
    "(mean_squared_error(y_test, y_pred_elastic))**0.5 "
   ]
  },
  {
   "cell_type": "code",
   "execution_count": 50,
   "id": "ebad7a0f",
   "metadata": {},
   "outputs": [
    {
     "data": {
      "text/plain": [
       "0.45626193352995825"
      ]
     },
     "execution_count": 50,
     "metadata": {},
     "output_type": "execute_result"
    }
   ],
   "source": [
    "r2_score(y_test,y_pred_elastic)"
   ]
  },
  {
   "cell_type": "code",
   "execution_count": null,
   "id": "4ee618b7",
   "metadata": {},
   "outputs": [],
   "source": []
  },
  {
   "cell_type": "code",
   "execution_count": null,
   "id": "7bf13bbf",
   "metadata": {},
   "outputs": [],
   "source": []
  },
  {
   "cell_type": "code",
   "execution_count": null,
   "id": "922c2097",
   "metadata": {},
   "outputs": [],
   "source": []
  },
  {
   "cell_type": "code",
   "execution_count": null,
   "id": "69791d0c",
   "metadata": {},
   "outputs": [],
   "source": []
  },
  {
   "cell_type": "code",
   "execution_count": null,
   "id": "5f1f3889",
   "metadata": {},
   "outputs": [],
   "source": []
  },
  {
   "cell_type": "code",
   "execution_count": null,
   "id": "7997b843",
   "metadata": {},
   "outputs": [],
   "source": []
  },
  {
   "cell_type": "code",
   "execution_count": null,
   "id": "6a7cab71",
   "metadata": {},
   "outputs": [],
   "source": []
  },
  {
   "cell_type": "code",
   "execution_count": null,
   "id": "6042d49f",
   "metadata": {},
   "outputs": [],
   "source": []
  },
  {
   "cell_type": "code",
   "execution_count": null,
   "id": "c296b4cd",
   "metadata": {},
   "outputs": [],
   "source": []
  },
  {
   "cell_type": "code",
   "execution_count": null,
   "id": "e7cdb959",
   "metadata": {},
   "outputs": [],
   "source": []
  },
  {
   "cell_type": "code",
   "execution_count": null,
   "id": "9b90689b",
   "metadata": {},
   "outputs": [],
   "source": []
  },
  {
   "cell_type": "code",
   "execution_count": null,
   "id": "7621a9dd",
   "metadata": {},
   "outputs": [],
   "source": []
  },
  {
   "cell_type": "code",
   "execution_count": null,
   "id": "bbd6964e",
   "metadata": {},
   "outputs": [],
   "source": []
  },
  {
   "cell_type": "code",
   "execution_count": null,
   "id": "a39edcad",
   "metadata": {},
   "outputs": [],
   "source": []
  },
  {
   "cell_type": "code",
   "execution_count": null,
   "id": "a0dcbb87",
   "metadata": {},
   "outputs": [],
   "source": []
  }
 ],
 "metadata": {
  "kernelspec": {
   "display_name": "Python 3.7.9 64-bit",
   "language": "python",
   "name": "python3"
  },
  "language_info": {
   "codemirror_mode": {
    "name": "ipython",
    "version": 3
   },
   "file_extension": ".py",
   "mimetype": "text/x-python",
   "name": "python",
   "nbconvert_exporter": "python",
   "pygments_lexer": "ipython3",
   "version": "3.7.9"
  },
  "vscode": {
   "interpreter": {
    "hash": "16f3484daa4199d826ac59be93380ed5ae89d2875afe8f45f4b2e96f2f02b6fc"
   }
  }
 },
 "nbformat": 4,
 "nbformat_minor": 5
}
